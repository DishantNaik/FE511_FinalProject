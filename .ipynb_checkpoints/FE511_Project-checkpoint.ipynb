{
 "cells": [
  {
   "cell_type": "code",
   "execution_count": 155,
   "metadata": {},
   "outputs": [],
   "source": [
    "import pandas as pd\n",
    "import numpy as np"
   ]
  },
  {
   "cell_type": "code",
   "execution_count": 156,
   "metadata": {},
   "outputs": [],
   "source": [
    "df = pd.read_excel('Data.xlsx')"
   ]
  },
  {
   "cell_type": "code",
   "execution_count": 157,
   "metadata": {},
   "outputs": [
    {
     "data": {
      "text/html": [
       "<div>\n",
       "<style scoped>\n",
       "    .dataframe tbody tr th:only-of-type {\n",
       "        vertical-align: middle;\n",
       "    }\n",
       "\n",
       "    .dataframe tbody tr th {\n",
       "        vertical-align: top;\n",
       "    }\n",
       "\n",
       "    .dataframe thead th {\n",
       "        text-align: right;\n",
       "    }\n",
       "</style>\n",
       "<table border=\"1\" class=\"dataframe\">\n",
       "  <thead>\n",
       "    <tr style=\"text-align: right;\">\n",
       "      <th></th>\n",
       "      <th>Unnamed: 0</th>\n",
       "      <th>Apple</th>\n",
       "      <th>Goole</th>\n",
       "      <th>IBM</th>\n",
       "      <th>SPX Index</th>\n",
       "    </tr>\n",
       "  </thead>\n",
       "  <tbody>\n",
       "    <tr>\n",
       "      <th>0</th>\n",
       "      <td>Date</td>\n",
       "      <td>Apple_Price</td>\n",
       "      <td>Google_Price</td>\n",
       "      <td>IBM_Price</td>\n",
       "      <td>SPX_Price</td>\n",
       "    </tr>\n",
       "    <tr>\n",
       "      <th>1</th>\n",
       "      <td>2010-01-04 00:00:00</td>\n",
       "      <td>7.643</td>\n",
       "      <td>313.679</td>\n",
       "      <td>132.45</td>\n",
       "      <td>1132.98</td>\n",
       "    </tr>\n",
       "    <tr>\n",
       "      <th>2</th>\n",
       "      <td>2010-01-05 00:00:00</td>\n",
       "      <td>7.656</td>\n",
       "      <td>312.297</td>\n",
       "      <td>130.85</td>\n",
       "      <td>1136.52</td>\n",
       "    </tr>\n",
       "    <tr>\n",
       "      <th>3</th>\n",
       "      <td>2010-01-06 00:00:00</td>\n",
       "      <td>7.535</td>\n",
       "      <td>304.425</td>\n",
       "      <td>130</td>\n",
       "      <td>1137.14</td>\n",
       "    </tr>\n",
       "    <tr>\n",
       "      <th>4</th>\n",
       "      <td>2010-01-07 00:00:00</td>\n",
       "      <td>7.521</td>\n",
       "      <td>297.338</td>\n",
       "      <td>129.55</td>\n",
       "      <td>1141.7</td>\n",
       "    </tr>\n",
       "  </tbody>\n",
       "</table>\n",
       "</div>"
      ],
      "text/plain": [
       "            Unnamed: 0        Apple         Goole        IBM  SPX Index\n",
       "0                 Date  Apple_Price  Google_Price  IBM_Price  SPX_Price\n",
       "1  2010-01-04 00:00:00        7.643       313.679     132.45    1132.98\n",
       "2  2010-01-05 00:00:00        7.656       312.297     130.85    1136.52\n",
       "3  2010-01-06 00:00:00        7.535       304.425        130    1137.14\n",
       "4  2010-01-07 00:00:00        7.521       297.338     129.55     1141.7"
      ]
     },
     "execution_count": 157,
     "metadata": {},
     "output_type": "execute_result"
    }
   ],
   "source": [
    "df.head()"
   ]
  },
  {
   "cell_type": "code",
   "execution_count": 158,
   "metadata": {},
   "outputs": [],
   "source": [
    "df.columns = df.iloc[0]"
   ]
  },
  {
   "cell_type": "code",
   "execution_count": 159,
   "metadata": {},
   "outputs": [
    {
     "data": {
      "text/html": [
       "<div>\n",
       "<style scoped>\n",
       "    .dataframe tbody tr th:only-of-type {\n",
       "        vertical-align: middle;\n",
       "    }\n",
       "\n",
       "    .dataframe tbody tr th {\n",
       "        vertical-align: top;\n",
       "    }\n",
       "\n",
       "    .dataframe thead th {\n",
       "        text-align: right;\n",
       "    }\n",
       "</style>\n",
       "<table border=\"1\" class=\"dataframe\">\n",
       "  <thead>\n",
       "    <tr style=\"text-align: right;\">\n",
       "      <th></th>\n",
       "      <th>Date</th>\n",
       "      <th>Apple_Price</th>\n",
       "      <th>Google_Price</th>\n",
       "      <th>IBM_Price</th>\n",
       "      <th>SPX_Price</th>\n",
       "    </tr>\n",
       "  </thead>\n",
       "  <tbody>\n",
       "    <tr>\n",
       "      <th>0</th>\n",
       "      <td>Date</td>\n",
       "      <td>Apple_Price</td>\n",
       "      <td>Google_Price</td>\n",
       "      <td>IBM_Price</td>\n",
       "      <td>SPX_Price</td>\n",
       "    </tr>\n",
       "    <tr>\n",
       "      <th>1</th>\n",
       "      <td>2010-01-04 00:00:00</td>\n",
       "      <td>7.643</td>\n",
       "      <td>313.679</td>\n",
       "      <td>132.45</td>\n",
       "      <td>1132.98</td>\n",
       "    </tr>\n",
       "    <tr>\n",
       "      <th>2</th>\n",
       "      <td>2010-01-05 00:00:00</td>\n",
       "      <td>7.656</td>\n",
       "      <td>312.297</td>\n",
       "      <td>130.85</td>\n",
       "      <td>1136.52</td>\n",
       "    </tr>\n",
       "    <tr>\n",
       "      <th>3</th>\n",
       "      <td>2010-01-06 00:00:00</td>\n",
       "      <td>7.535</td>\n",
       "      <td>304.425</td>\n",
       "      <td>130</td>\n",
       "      <td>1137.14</td>\n",
       "    </tr>\n",
       "    <tr>\n",
       "      <th>4</th>\n",
       "      <td>2010-01-07 00:00:00</td>\n",
       "      <td>7.521</td>\n",
       "      <td>297.338</td>\n",
       "      <td>129.55</td>\n",
       "      <td>1141.7</td>\n",
       "    </tr>\n",
       "  </tbody>\n",
       "</table>\n",
       "</div>"
      ],
      "text/plain": [
       "0                 Date  Apple_Price  Google_Price  IBM_Price  SPX_Price\n",
       "0                 Date  Apple_Price  Google_Price  IBM_Price  SPX_Price\n",
       "1  2010-01-04 00:00:00        7.643       313.679     132.45    1132.98\n",
       "2  2010-01-05 00:00:00        7.656       312.297     130.85    1136.52\n",
       "3  2010-01-06 00:00:00        7.535       304.425        130    1137.14\n",
       "4  2010-01-07 00:00:00        7.521       297.338     129.55     1141.7"
      ]
     },
     "execution_count": 159,
     "metadata": {},
     "output_type": "execute_result"
    }
   ],
   "source": [
    "df.head()"
   ]
  },
  {
   "cell_type": "code",
   "execution_count": 160,
   "metadata": {},
   "outputs": [],
   "source": [
    "df = df.iloc[1:]"
   ]
  },
  {
   "cell_type": "code",
   "execution_count": 161,
   "metadata": {},
   "outputs": [
    {
     "data": {
      "text/html": [
       "<div>\n",
       "<style scoped>\n",
       "    .dataframe tbody tr th:only-of-type {\n",
       "        vertical-align: middle;\n",
       "    }\n",
       "\n",
       "    .dataframe tbody tr th {\n",
       "        vertical-align: top;\n",
       "    }\n",
       "\n",
       "    .dataframe thead th {\n",
       "        text-align: right;\n",
       "    }\n",
       "</style>\n",
       "<table border=\"1\" class=\"dataframe\">\n",
       "  <thead>\n",
       "    <tr style=\"text-align: right;\">\n",
       "      <th></th>\n",
       "      <th>Date</th>\n",
       "      <th>Apple_Price</th>\n",
       "      <th>Google_Price</th>\n",
       "      <th>IBM_Price</th>\n",
       "      <th>SPX_Price</th>\n",
       "    </tr>\n",
       "  </thead>\n",
       "  <tbody>\n",
       "    <tr>\n",
       "      <th>1</th>\n",
       "      <td>2010-01-04 00:00:00</td>\n",
       "      <td>7.643</td>\n",
       "      <td>313.679</td>\n",
       "      <td>132.45</td>\n",
       "      <td>1132.98</td>\n",
       "    </tr>\n",
       "    <tr>\n",
       "      <th>2</th>\n",
       "      <td>2010-01-05 00:00:00</td>\n",
       "      <td>7.656</td>\n",
       "      <td>312.297</td>\n",
       "      <td>130.85</td>\n",
       "      <td>1136.52</td>\n",
       "    </tr>\n",
       "    <tr>\n",
       "      <th>3</th>\n",
       "      <td>2010-01-06 00:00:00</td>\n",
       "      <td>7.535</td>\n",
       "      <td>304.425</td>\n",
       "      <td>130</td>\n",
       "      <td>1137.14</td>\n",
       "    </tr>\n",
       "    <tr>\n",
       "      <th>4</th>\n",
       "      <td>2010-01-07 00:00:00</td>\n",
       "      <td>7.521</td>\n",
       "      <td>297.338</td>\n",
       "      <td>129.55</td>\n",
       "      <td>1141.7</td>\n",
       "    </tr>\n",
       "    <tr>\n",
       "      <th>5</th>\n",
       "      <td>2010-01-08 00:00:00</td>\n",
       "      <td>7.571</td>\n",
       "      <td>301.302</td>\n",
       "      <td>130.85</td>\n",
       "      <td>1144.98</td>\n",
       "    </tr>\n",
       "  </tbody>\n",
       "</table>\n",
       "</div>"
      ],
      "text/plain": [
       "0                 Date Apple_Price Google_Price IBM_Price SPX_Price\n",
       "1  2010-01-04 00:00:00       7.643      313.679    132.45   1132.98\n",
       "2  2010-01-05 00:00:00       7.656      312.297    130.85   1136.52\n",
       "3  2010-01-06 00:00:00       7.535      304.425       130   1137.14\n",
       "4  2010-01-07 00:00:00       7.521      297.338    129.55    1141.7\n",
       "5  2010-01-08 00:00:00       7.571      301.302    130.85   1144.98"
      ]
     },
     "execution_count": 161,
     "metadata": {},
     "output_type": "execute_result"
    }
   ],
   "source": [
    "df.head()"
   ]
  },
  {
   "cell_type": "code",
   "execution_count": 162,
   "metadata": {},
   "outputs": [],
   "source": [
    "df.Date = df.Date.dt.date"
   ]
  },
  {
   "cell_type": "code",
   "execution_count": 163,
   "metadata": {},
   "outputs": [
    {
     "data": {
      "text/plain": [
       "(2264, 5)"
      ]
     },
     "execution_count": 163,
     "metadata": {},
     "output_type": "execute_result"
    }
   ],
   "source": [
    "df.shape"
   ]
  },
  {
   "cell_type": "code",
   "execution_count": 164,
   "metadata": {},
   "outputs": [],
   "source": [
    "# df.set_index('Date',inplace=True)"
   ]
  },
  {
   "cell_type": "code",
   "execution_count": 165,
   "metadata": {},
   "outputs": [],
   "source": [
    "# df.head(6)"
   ]
  },
  {
   "cell_type": "code",
   "execution_count": 166,
   "metadata": {},
   "outputs": [],
   "source": [
    "missing_dates = pd.date_range(df.Date.min(), df.Date.max()).difference(df.index)"
   ]
  },
  {
   "cell_type": "code",
   "execution_count": 167,
   "metadata": {},
   "outputs": [
    {
     "name": "stdout",
     "output_type": "stream",
     "text": [
      "DatetimeIndex(['2010-01-04', '2010-01-05', '2010-01-06', '2010-01-07',\n",
      "               '2010-01-08', '2010-01-09', '2010-01-10', '2010-01-11',\n",
      "               '2010-01-12', '2010-01-13',\n",
      "               ...\n",
      "               '2018-12-22', '2018-12-23', '2018-12-24', '2018-12-25',\n",
      "               '2018-12-26', '2018-12-27', '2018-12-28', '2018-12-29',\n",
      "               '2018-12-30', '2018-12-31'],\n",
      "              dtype='datetime64[ns]', length=3284, freq=None)\n",
      "3284\n"
     ]
    }
   ],
   "source": [
    "print(missing_dates)\n",
    "print(len(missing_dates))"
   ]
  },
  {
   "cell_type": "code",
   "execution_count": 168,
   "metadata": {},
   "outputs": [],
   "source": [
    "# adding missing dates\n",
    "idx = pd.date_range(start=df.Date.min(), end=df.Date.max())"
   ]
  },
  {
   "cell_type": "code",
   "execution_count": 169,
   "metadata": {},
   "outputs": [],
   "source": [
    "df = df.set_index('Date').reindex(idx).rename_axis('Date').reset_index()"
   ]
  },
  {
   "cell_type": "code",
   "execution_count": 170,
   "metadata": {},
   "outputs": [],
   "source": [
    "df.set_index('Date',inplace=True)"
   ]
  },
  {
   "cell_type": "code",
   "execution_count": 171,
   "metadata": {},
   "outputs": [
    {
     "data": {
      "text/html": [
       "<div>\n",
       "<style scoped>\n",
       "    .dataframe tbody tr th:only-of-type {\n",
       "        vertical-align: middle;\n",
       "    }\n",
       "\n",
       "    .dataframe tbody tr th {\n",
       "        vertical-align: top;\n",
       "    }\n",
       "\n",
       "    .dataframe thead th {\n",
       "        text-align: right;\n",
       "    }\n",
       "</style>\n",
       "<table border=\"1\" class=\"dataframe\">\n",
       "  <thead>\n",
       "    <tr style=\"text-align: right;\">\n",
       "      <th></th>\n",
       "      <th>Apple_Price</th>\n",
       "      <th>Google_Price</th>\n",
       "      <th>IBM_Price</th>\n",
       "      <th>SPX_Price</th>\n",
       "    </tr>\n",
       "    <tr>\n",
       "      <th>Date</th>\n",
       "      <th></th>\n",
       "      <th></th>\n",
       "      <th></th>\n",
       "      <th></th>\n",
       "    </tr>\n",
       "  </thead>\n",
       "  <tbody>\n",
       "    <tr>\n",
       "      <th>2010-01-04</th>\n",
       "      <td>7.643</td>\n",
       "      <td>313.679</td>\n",
       "      <td>132.45</td>\n",
       "      <td>1132.98</td>\n",
       "    </tr>\n",
       "    <tr>\n",
       "      <th>2010-01-05</th>\n",
       "      <td>7.656</td>\n",
       "      <td>312.297</td>\n",
       "      <td>130.85</td>\n",
       "      <td>1136.52</td>\n",
       "    </tr>\n",
       "    <tr>\n",
       "      <th>2010-01-06</th>\n",
       "      <td>7.535</td>\n",
       "      <td>304.425</td>\n",
       "      <td>130</td>\n",
       "      <td>1137.14</td>\n",
       "    </tr>\n",
       "    <tr>\n",
       "      <th>2010-01-07</th>\n",
       "      <td>7.521</td>\n",
       "      <td>297.338</td>\n",
       "      <td>129.55</td>\n",
       "      <td>1141.7</td>\n",
       "    </tr>\n",
       "    <tr>\n",
       "      <th>2010-01-08</th>\n",
       "      <td>7.571</td>\n",
       "      <td>301.302</td>\n",
       "      <td>130.85</td>\n",
       "      <td>1144.98</td>\n",
       "    </tr>\n",
       "    <tr>\n",
       "      <th>2010-01-09</th>\n",
       "      <td>NaN</td>\n",
       "      <td>NaN</td>\n",
       "      <td>NaN</td>\n",
       "      <td>NaN</td>\n",
       "    </tr>\n",
       "    <tr>\n",
       "      <th>2010-01-10</th>\n",
       "      <td>NaN</td>\n",
       "      <td>NaN</td>\n",
       "      <td>NaN</td>\n",
       "      <td>NaN</td>\n",
       "    </tr>\n",
       "    <tr>\n",
       "      <th>2010-01-11</th>\n",
       "      <td>7.504</td>\n",
       "      <td>300.846</td>\n",
       "      <td>129.48</td>\n",
       "      <td>1146.98</td>\n",
       "    </tr>\n",
       "    <tr>\n",
       "      <th>2010-01-12</th>\n",
       "      <td>7.419</td>\n",
       "      <td>295.526</td>\n",
       "      <td>130.51</td>\n",
       "      <td>1136.22</td>\n",
       "    </tr>\n",
       "    <tr>\n",
       "      <th>2010-01-13</th>\n",
       "      <td>7.523</td>\n",
       "      <td>293.829</td>\n",
       "      <td>130.23</td>\n",
       "      <td>1145.68</td>\n",
       "    </tr>\n",
       "  </tbody>\n",
       "</table>\n",
       "</div>"
      ],
      "text/plain": [
       "0          Apple_Price Google_Price IBM_Price SPX_Price\n",
       "Date                                                   \n",
       "2010-01-04       7.643      313.679    132.45   1132.98\n",
       "2010-01-05       7.656      312.297    130.85   1136.52\n",
       "2010-01-06       7.535      304.425       130   1137.14\n",
       "2010-01-07       7.521      297.338    129.55    1141.7\n",
       "2010-01-08       7.571      301.302    130.85   1144.98\n",
       "2010-01-09         NaN          NaN       NaN       NaN\n",
       "2010-01-10         NaN          NaN       NaN       NaN\n",
       "2010-01-11       7.504      300.846    129.48   1146.98\n",
       "2010-01-12       7.419      295.526    130.51   1136.22\n",
       "2010-01-13       7.523      293.829    130.23   1145.68"
      ]
     },
     "execution_count": 171,
     "metadata": {},
     "output_type": "execute_result"
    }
   ],
   "source": [
    "df.head(10)"
   ]
  },
  {
   "cell_type": "code",
   "execution_count": 154,
   "metadata": {},
   "outputs": [
    {
     "data": {
      "text/plain": [
       "(3284, 4)"
      ]
     },
     "execution_count": 154,
     "metadata": {},
     "output_type": "execute_result"
    }
   ],
   "source": [
    "df.shape"
   ]
  },
  {
   "cell_type": "code",
   "execution_count": 173,
   "metadata": {},
   "outputs": [],
   "source": [
    "# Fill all NaN with previous values\n",
    "df.fillna(method='ffill',inplace=True)"
   ]
  },
  {
   "cell_type": "code",
   "execution_count": 174,
   "metadata": {},
   "outputs": [
    {
     "data": {
      "text/html": [
       "<div>\n",
       "<style scoped>\n",
       "    .dataframe tbody tr th:only-of-type {\n",
       "        vertical-align: middle;\n",
       "    }\n",
       "\n",
       "    .dataframe tbody tr th {\n",
       "        vertical-align: top;\n",
       "    }\n",
       "\n",
       "    .dataframe thead th {\n",
       "        text-align: right;\n",
       "    }\n",
       "</style>\n",
       "<table border=\"1\" class=\"dataframe\">\n",
       "  <thead>\n",
       "    <tr style=\"text-align: right;\">\n",
       "      <th></th>\n",
       "      <th>Apple_Price</th>\n",
       "      <th>Google_Price</th>\n",
       "      <th>IBM_Price</th>\n",
       "      <th>SPX_Price</th>\n",
       "    </tr>\n",
       "    <tr>\n",
       "      <th>Date</th>\n",
       "      <th></th>\n",
       "      <th></th>\n",
       "      <th></th>\n",
       "      <th></th>\n",
       "    </tr>\n",
       "  </thead>\n",
       "  <tbody>\n",
       "    <tr>\n",
       "      <th>2010-01-04</th>\n",
       "      <td>7.643</td>\n",
       "      <td>313.679</td>\n",
       "      <td>132.45</td>\n",
       "      <td>1132.98</td>\n",
       "    </tr>\n",
       "    <tr>\n",
       "      <th>2010-01-05</th>\n",
       "      <td>7.656</td>\n",
       "      <td>312.297</td>\n",
       "      <td>130.85</td>\n",
       "      <td>1136.52</td>\n",
       "    </tr>\n",
       "    <tr>\n",
       "      <th>2010-01-06</th>\n",
       "      <td>7.535</td>\n",
       "      <td>304.425</td>\n",
       "      <td>130.00</td>\n",
       "      <td>1137.14</td>\n",
       "    </tr>\n",
       "    <tr>\n",
       "      <th>2010-01-07</th>\n",
       "      <td>7.521</td>\n",
       "      <td>297.338</td>\n",
       "      <td>129.55</td>\n",
       "      <td>1141.70</td>\n",
       "    </tr>\n",
       "    <tr>\n",
       "      <th>2010-01-08</th>\n",
       "      <td>7.571</td>\n",
       "      <td>301.302</td>\n",
       "      <td>130.85</td>\n",
       "      <td>1144.98</td>\n",
       "    </tr>\n",
       "    <tr>\n",
       "      <th>2010-01-09</th>\n",
       "      <td>7.571</td>\n",
       "      <td>301.302</td>\n",
       "      <td>130.85</td>\n",
       "      <td>1144.98</td>\n",
       "    </tr>\n",
       "    <tr>\n",
       "      <th>2010-01-10</th>\n",
       "      <td>7.571</td>\n",
       "      <td>301.302</td>\n",
       "      <td>130.85</td>\n",
       "      <td>1144.98</td>\n",
       "    </tr>\n",
       "    <tr>\n",
       "      <th>2010-01-11</th>\n",
       "      <td>7.504</td>\n",
       "      <td>300.846</td>\n",
       "      <td>129.48</td>\n",
       "      <td>1146.98</td>\n",
       "    </tr>\n",
       "    <tr>\n",
       "      <th>2010-01-12</th>\n",
       "      <td>7.419</td>\n",
       "      <td>295.526</td>\n",
       "      <td>130.51</td>\n",
       "      <td>1136.22</td>\n",
       "    </tr>\n",
       "    <tr>\n",
       "      <th>2010-01-13</th>\n",
       "      <td>7.523</td>\n",
       "      <td>293.829</td>\n",
       "      <td>130.23</td>\n",
       "      <td>1145.68</td>\n",
       "    </tr>\n",
       "  </tbody>\n",
       "</table>\n",
       "</div>"
      ],
      "text/plain": [
       "0           Apple_Price  Google_Price  IBM_Price  SPX_Price\n",
       "Date                                                       \n",
       "2010-01-04        7.643       313.679     132.45    1132.98\n",
       "2010-01-05        7.656       312.297     130.85    1136.52\n",
       "2010-01-06        7.535       304.425     130.00    1137.14\n",
       "2010-01-07        7.521       297.338     129.55    1141.70\n",
       "2010-01-08        7.571       301.302     130.85    1144.98\n",
       "2010-01-09        7.571       301.302     130.85    1144.98\n",
       "2010-01-10        7.571       301.302     130.85    1144.98\n",
       "2010-01-11        7.504       300.846     129.48    1146.98\n",
       "2010-01-12        7.419       295.526     130.51    1136.22\n",
       "2010-01-13        7.523       293.829     130.23    1145.68"
      ]
     },
     "execution_count": 174,
     "metadata": {},
     "output_type": "execute_result"
    }
   ],
   "source": [
    "df.head(10)"
   ]
  },
  {
   "cell_type": "code",
   "execution_count": 175,
   "metadata": {},
   "outputs": [
    {
     "data": {
      "text/plain": [
       "0\n",
       "Apple_Price     0\n",
       "Google_Price    0\n",
       "IBM_Price       0\n",
       "SPX_Price       0\n",
       "dtype: int64"
      ]
     },
     "execution_count": 175,
     "metadata": {},
     "output_type": "execute_result"
    }
   ],
   "source": [
    "df.isnull().sum()"
   ]
  },
  {
   "cell_type": "code",
   "execution_count": null,
   "metadata": {},
   "outputs": [],
   "source": []
  }
 ],
 "metadata": {
  "kernelspec": {
   "display_name": "Python 3",
   "language": "python",
   "name": "python3"
  },
  "language_info": {
   "codemirror_mode": {
    "name": "ipython",
    "version": 3
   },
   "file_extension": ".py",
   "mimetype": "text/x-python",
   "name": "python",
   "nbconvert_exporter": "python",
   "pygments_lexer": "ipython3",
   "version": "3.8.3"
  }
 },
 "nbformat": 4,
 "nbformat_minor": 4
}
